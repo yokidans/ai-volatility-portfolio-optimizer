{
 "cells": [
  {
   "cell_type": "markdown",
   "id": "943b8b89-126b-4de1-9dd5-4c95edbc2f09",
   "metadata": {},
   "source": [
    "# 01_eda_regimes.ipynb\n",
    "# ---\n",
    "# AI-Driven Volatility Forecasting & Adaptive Portfolio Optimization\n",
    "# Notebook 01: Exploratory Data Analysis — Volatility Regimes\n",
    "# ---\n",
    "# ## Purpose\n",
    "# This notebook explores volatility regimes using VIX data, regime detection logic\n",
    "# from `src/features/regimes.py`, and regime-conditioned return distributions.\n",
    "#\n",
    "# Audience Fit:\n",
    "# - **Quant recruiters** → See rigorous methodology, clean plots, reproducibility\n",
    "# - **Portfolio managers** → Understand regime behavior, tail risks, transition dynamics\n",
    "# - **Executives** → Clear story of how volatility regimes matter for allocation\n",
    "#\n",
    "# ## Notebook Sections\n",
    "# 1. Setup & Imports\n",
    "# 2. Load Market Data (SPY + VIX as baseline)\n",
    "# 3. Apply Regime Detector (from regimes.py)\n",
    "# 4. Visualize Regimes on Price & Volatility\n",
    "# 5. Regime Statistics (mean returns, vol, drawdowns)\n",
    "# 6. Transition Analysis\n",
    "# 7. Save Outputs (figures + regime features parquet)\n",
    "\n",
    "# -------------------\n",
    "# 1. Setup & Imports\n",
    "# -------------------"
   ]
  },
  {
   "cell_type": "code",
   "execution_count": 3,
   "id": "42dc9d41-1fd9-452d-9c6e-18b82fd66bb9",
   "metadata": {},
   "outputs": [
    {
     "ename": "ModuleNotFoundError",
     "evalue": "No module named 'src'",
     "output_type": "error",
     "traceback": [
      "\u001b[1;31m---------------------------------------------------------------------------\u001b[0m",
      "\u001b[1;31mModuleNotFoundError\u001b[0m                       Traceback (most recent call last)",
      "Cell \u001b[1;32mIn[3], line 7\u001b[0m\n\u001b[0;32m      4\u001b[0m \u001b[38;5;28;01mimport\u001b[39;00m\u001b[38;5;250m \u001b[39m\u001b[38;5;21;01mseaborn\u001b[39;00m\u001b[38;5;250m \u001b[39m\u001b[38;5;28;01mas\u001b[39;00m\u001b[38;5;250m \u001b[39m\u001b[38;5;21;01msns\u001b[39;00m\n\u001b[0;32m      5\u001b[0m \u001b[38;5;28;01mfrom\u001b[39;00m\u001b[38;5;250m \u001b[39m\u001b[38;5;21;01mpathlib\u001b[39;00m\u001b[38;5;250m \u001b[39m\u001b[38;5;28;01mimport\u001b[39;00m Path\n\u001b[1;32m----> 7\u001b[0m \u001b[38;5;28;01mfrom\u001b[39;00m\u001b[38;5;250m \u001b[39m\u001b[38;5;21;01msrc\u001b[39;00m\u001b[38;5;21;01m.\u001b[39;00m\u001b[38;5;21;01mfeatures\u001b[39;00m\u001b[38;5;21;01m.\u001b[39;00m\u001b[38;5;21;01mregimes\u001b[39;00m\u001b[38;5;250m \u001b[39m\u001b[38;5;28;01mimport\u001b[39;00m RegimeDetector, VolatilityRegime\n\u001b[0;32m      8\u001b[0m \u001b[38;5;28;01mfrom\u001b[39;00m\u001b[38;5;250m \u001b[39m\u001b[38;5;21;01msrc\u001b[39;00m\u001b[38;5;21;01m.\u001b[39;00m\u001b[38;5;21;01mdata\u001b[39;00m\u001b[38;5;21;01m.\u001b[39;00m\u001b[38;5;21;01mfetchers\u001b[39;00m\u001b[38;5;250m \u001b[39m\u001b[38;5;28;01mimport\u001b[39;00m get_yfinance_data\n\u001b[0;32m      9\u001b[0m \u001b[38;5;28;01mfrom\u001b[39;00m\u001b[38;5;250m \u001b[39m\u001b[38;5;21;01msrc\u001b[39;00m\u001b[38;5;21;01m.\u001b[39;00m\u001b[38;5;21;01mconfig\u001b[39;00m\u001b[38;5;250m \u001b[39m\u001b[38;5;28;01mimport\u001b[39;00m settings\n",
      "\u001b[1;31mModuleNotFoundError\u001b[0m: No module named 'src'"
     ]
    }
   ],
   "source": [
    "import pandas as pd\n",
    "import numpy as np\n",
    "import matplotlib.pyplot as plt\n",
    "import seaborn as sns\n",
    "from pathlib import Path\n",
    "\n",
    "from src.features.regimes import RegimeDetector, VolatilityRegime\n",
    "from src.data.fetchers import get_yfinance_data\n",
    "from src.config import settings\n",
    "\n",
    "# Set style\n",
    "sns.set_style(\"whitegrid\")\n",
    "plt.rcParams[\"figure.figsize\"] = (12,6)\n",
    "\n",
    "# Output paths\n",
    "OUTPUT_DIR = Path(\"reports/eda\")\n",
    "OUTPUT_DIR.mkdir(parents=True, exist_ok=True)"
   ]
  },
  {
   "cell_type": "markdown",
   "id": "d840fe1e-cde6-45e5-ae9e-1e96846ff1c9",
   "metadata": {},
   "source": [
    "# --------------------------\n",
    "# 2. Load Market Data (SPY)\n",
    "# --------------------------"
   ]
  },
  {
   "cell_type": "code",
   "execution_count": 4,
   "id": "1135bae3-c0f8-4948-aae5-c49adcf7fd3f",
   "metadata": {},
   "outputs": [
    {
     "ename": "NameError",
     "evalue": "name 'get_yfinance_data' is not defined",
     "output_type": "error",
     "traceback": [
      "\u001b[1;31m---------------------------------------------------------------------------\u001b[0m",
      "\u001b[1;31mNameError\u001b[0m                                 Traceback (most recent call last)",
      "Cell \u001b[1;32mIn[4], line 3\u001b[0m\n\u001b[0;32m      1\u001b[0m \u001b[38;5;66;03m# Example: SPY (equity) + VIX (volatility proxy)\u001b[39;00m\n\u001b[0;32m      2\u001b[0m tickers \u001b[38;5;241m=\u001b[39m [\u001b[38;5;124m\"\u001b[39m\u001b[38;5;124mSPY\u001b[39m\u001b[38;5;124m\"\u001b[39m, \u001b[38;5;124m\"\u001b[39m\u001b[38;5;124m^VIX\u001b[39m\u001b[38;5;124m\"\u001b[39m]\n\u001b[1;32m----> 3\u001b[0m df \u001b[38;5;241m=\u001b[39m \u001b[43mget_yfinance_data\u001b[49m(tickers, start\u001b[38;5;241m=\u001b[39m\u001b[38;5;124m\"\u001b[39m\u001b[38;5;124m2015-01-01\u001b[39m\u001b[38;5;124m\"\u001b[39m, end\u001b[38;5;241m=\u001b[39m\u001b[38;5;124m\"\u001b[39m\u001b[38;5;124m2025-01-01\u001b[39m\u001b[38;5;124m\"\u001b[39m)\n\u001b[0;32m      5\u001b[0m \u001b[38;5;66;03m# Ensure clean format\u001b[39;00m\n\u001b[0;32m      6\u001b[0m df \u001b[38;5;241m=\u001b[39m df\u001b[38;5;241m.\u001b[39mrename(columns\u001b[38;5;241m=\u001b[39m{\u001b[38;5;124m\"\u001b[39m\u001b[38;5;124mAdj Close\u001b[39m\u001b[38;5;124m\"\u001b[39m: \u001b[38;5;124m\"\u001b[39m\u001b[38;5;124mprice\u001b[39m\u001b[38;5;124m\"\u001b[39m}) \u001b[38;5;28;01mif\u001b[39;00m \u001b[38;5;124m\"\u001b[39m\u001b[38;5;124mAdj Close\u001b[39m\u001b[38;5;124m\"\u001b[39m \u001b[38;5;129;01min\u001b[39;00m df\u001b[38;5;241m.\u001b[39mcolumns \u001b[38;5;28;01melse\u001b[39;00m df\n",
      "\u001b[1;31mNameError\u001b[0m: name 'get_yfinance_data' is not defined"
     ]
    }
   ],
   "source": [
    "# Example: SPY (equity) + VIX (volatility proxy)\n",
    "tickers = [\"SPY\", \"^VIX\"]\n",
    "df = get_yfinance_data(tickers, start=\"2015-01-01\", end=\"2025-01-01\")\n",
    "\n",
    "# Ensure clean format\n",
    "df = df.rename(columns={\"Adj Close\": \"price\"}) if \"Adj Close\" in df.columns else df\n",
    "df = df.dropna()\n",
    "\n",
    "# Daily returns\n",
    "df[\"returns\"] = df[\"SPY\"].pct_change()"
   ]
  },
  {
   "cell_type": "markdown",
   "id": "ed1dc793-4bd0-4dc9-9011-44f5642155ed",
   "metadata": {},
   "source": [
    "# ---------------------------\n",
    "# 3. Apply Regime Detection\n",
    "# ---------------------------"
   ]
  },
  {
   "cell_type": "code",
   "execution_count": 5,
   "id": "35faa1f9-b78e-4568-9679-ab1a3be8ea4d",
   "metadata": {},
   "outputs": [
    {
     "ename": "NameError",
     "evalue": "name 'RegimeDetector' is not defined",
     "output_type": "error",
     "traceback": [
      "\u001b[1;31m---------------------------------------------------------------------------\u001b[0m",
      "\u001b[1;31mNameError\u001b[0m                                 Traceback (most recent call last)",
      "Cell \u001b[1;32mIn[5], line 1\u001b[0m\n\u001b[1;32m----> 1\u001b[0m detector \u001b[38;5;241m=\u001b[39m \u001b[43mRegimeDetector\u001b[49m()\n\u001b[0;32m      2\u001b[0m regimes \u001b[38;5;241m=\u001b[39m detector\u001b[38;5;241m.\u001b[39mdetect_regimes(df[\u001b[38;5;124m\"\u001b[39m\u001b[38;5;124mVIX\u001b[39m\u001b[38;5;124m\"\u001b[39m])\n\u001b[0;32m      3\u001b[0m df[\u001b[38;5;124m\"\u001b[39m\u001b[38;5;124mregime\u001b[39m\u001b[38;5;124m\"\u001b[39m] \u001b[38;5;241m=\u001b[39m regimes\u001b[38;5;241m.\u001b[39mvalues\n",
      "\u001b[1;31mNameError\u001b[0m: name 'RegimeDetector' is not defined"
     ]
    }
   ],
   "source": [
    "detector = RegimeDetector()\n",
    "regimes = detector.detect_regimes(df[\"VIX\"])\n",
    "df[\"regime\"] = regimes.values\n",
    "\n",
    "# Add one-hot regime features\n",
    "features = detector.create_regime_features(df[[\"VIX\"]])\n",
    "df = pd.concat([df, features], axis=1)"
   ]
  },
  {
   "cell_type": "markdown",
   "id": "030138bd-29d7-4724-82f0-680ad5b4c7ae",
   "metadata": {},
   "source": [
    "# ------------------------------\n",
    "# 4. Visualize Regime Dynamics\n",
    "# ------------------------------"
   ]
  },
  {
   "cell_type": "code",
   "execution_count": 6,
   "id": "3e2b8868-dccf-4ee4-a64d-aa09002eccde",
   "metadata": {},
   "outputs": [
    {
     "ename": "NameError",
     "evalue": "name 'df' is not defined",
     "output_type": "error",
     "traceback": [
      "\u001b[1;31m---------------------------------------------------------------------------\u001b[0m",
      "\u001b[1;31mNameError\u001b[0m                                 Traceback (most recent call last)",
      "Cell \u001b[1;32mIn[6], line 3\u001b[0m\n\u001b[0;32m      1\u001b[0m fig, ax1 \u001b[38;5;241m=\u001b[39m plt\u001b[38;5;241m.\u001b[39msubplots(figsize\u001b[38;5;241m=\u001b[39m(\u001b[38;5;241m14\u001b[39m,\u001b[38;5;241m6\u001b[39m))\n\u001b[1;32m----> 3\u001b[0m ax1\u001b[38;5;241m.\u001b[39mplot(\u001b[43mdf\u001b[49m\u001b[38;5;241m.\u001b[39mindex, df[\u001b[38;5;124m\"\u001b[39m\u001b[38;5;124mSPY\u001b[39m\u001b[38;5;124m\"\u001b[39m], color\u001b[38;5;241m=\u001b[39m\u001b[38;5;124m\"\u001b[39m\u001b[38;5;124mblack\u001b[39m\u001b[38;5;124m\"\u001b[39m, alpha\u001b[38;5;241m=\u001b[39m\u001b[38;5;241m0.7\u001b[39m, label\u001b[38;5;241m=\u001b[39m\u001b[38;5;124m\"\u001b[39m\u001b[38;5;124mSPY Price\u001b[39m\u001b[38;5;124m\"\u001b[39m)\n\u001b[0;32m      4\u001b[0m ax1\u001b[38;5;241m.\u001b[39mset_ylabel(\u001b[38;5;124m\"\u001b[39m\u001b[38;5;124mSPY Price\u001b[39m\u001b[38;5;124m\"\u001b[39m, color\u001b[38;5;241m=\u001b[39m\u001b[38;5;124m\"\u001b[39m\u001b[38;5;124mblack\u001b[39m\u001b[38;5;124m\"\u001b[39m)\n\u001b[0;32m      6\u001b[0m \u001b[38;5;66;03m# Regimes shading\u001b[39;00m\n",
      "\u001b[1;31mNameError\u001b[0m: name 'df' is not defined"
     ]
    },
    {
     "data": {
      "image/png": "[encoded data removed]",
      "text/plain": [
       "<Figure size 1400x600 with 1 Axes>"
      ]
     },
     "metadata": {},
     "output_type": "display_data"
    }
   ],
   "source": [
    "fig, ax1 = plt.subplots(figsize=(14,6))\n",
    "\n",
    "ax1.plot(df.index, df[\"SPY\"], color=\"black\", alpha=0.7, label=\"SPY Price\")\n",
    "ax1.set_ylabel(\"SPY Price\", color=\"black\")\n",
    "\n",
    "# Regimes shading\n",
    "regime_colors = {\n",
    "    VolatilityRegime.LOW: \"green\",\n",
    "    VolatilityRegime.MEDIUM: \"orange\",\n",
    "    VolatilityRegime.HIGH: \"red\",\n",
    "    VolatilityRegime.EXTREME: \"purple\"\n",
    "}\n",
    "for regime, color in regime_colors.items():\n",
    "    mask = df[\"regime\"] == regime\n",
    "    ax1.fill_between(df.index, ax1.get_ylim()[0], ax1.get_ylim()[1],\n",
    "                     where=mask, color=color, alpha=0.1, label=f\"{regime.name} regime\")\n",
    "\n",
    "ax1.legend(loc=\"upper left\")\n",
    "plt.title(\"SPY Price with Volatility Regimes (based on VIX)\")\n",
    "plt.savefig(OUTPUT_DIR / \"regime_price_overlay.png\")\n",
    "plt.show()"
   ]
  },
  {
   "cell_type": "markdown",
   "id": "ffceeb1b-6a06-4753-92d2-bcf74aff5956",
   "metadata": {},
   "source": [
    "# ----------------------------\n",
    "# 5. Regime-Conditioned Stats\n",
    "# ----------------------------"
   ]
  },
  {
   "cell_type": "code",
   "execution_count": 7,
   "id": "d94d5940-8de1-4755-992c-735c936183c9",
   "metadata": {},
   "outputs": [
    {
     "ename": "NameError",
     "evalue": "name 'df' is not defined",
     "output_type": "error",
     "traceback": [
      "\u001b[1;31m---------------------------------------------------------------------------\u001b[0m",
      "\u001b[1;31mNameError\u001b[0m                                 Traceback (most recent call last)",
      "Cell \u001b[1;32mIn[7], line 2\u001b[0m\n\u001b[0;32m      1\u001b[0m summary_stats \u001b[38;5;241m=\u001b[39m (\n\u001b[1;32m----> 2\u001b[0m     \u001b[43mdf\u001b[49m\u001b[38;5;241m.\u001b[39mgroupby(\u001b[38;5;124m\"\u001b[39m\u001b[38;5;124mregime\u001b[39m\u001b[38;5;124m\"\u001b[39m)[\u001b[38;5;124m\"\u001b[39m\u001b[38;5;124mreturns\u001b[39m\u001b[38;5;124m\"\u001b[39m]\n\u001b[0;32m      3\u001b[0m     \u001b[38;5;241m.\u001b[39magg([\u001b[38;5;124m\"\u001b[39m\u001b[38;5;124mmean\u001b[39m\u001b[38;5;124m\"\u001b[39m, \u001b[38;5;124m\"\u001b[39m\u001b[38;5;124mstd\u001b[39m\u001b[38;5;124m\"\u001b[39m, \u001b[38;5;124m\"\u001b[39m\u001b[38;5;124mcount\u001b[39m\u001b[38;5;124m\"\u001b[39m])\n\u001b[0;32m      4\u001b[0m     \u001b[38;5;241m.\u001b[39mrename(columns\u001b[38;5;241m=\u001b[39m{\u001b[38;5;124m\"\u001b[39m\u001b[38;5;124mmean\u001b[39m\u001b[38;5;124m\"\u001b[39m: \u001b[38;5;124m\"\u001b[39m\u001b[38;5;124mavg_return\u001b[39m\u001b[38;5;124m\"\u001b[39m, \u001b[38;5;124m\"\u001b[39m\u001b[38;5;124mstd\u001b[39m\u001b[38;5;124m\"\u001b[39m: \u001b[38;5;124m\"\u001b[39m\u001b[38;5;124mvolatility\u001b[39m\u001b[38;5;124m\"\u001b[39m})\n\u001b[0;32m      5\u001b[0m )\n\u001b[0;32m      6\u001b[0m summary_stats[\u001b[38;5;124m\"\u001b[39m\u001b[38;5;124msharpe_proxy\u001b[39m\u001b[38;5;124m\"\u001b[39m] \u001b[38;5;241m=\u001b[39m summary_stats[\u001b[38;5;124m\"\u001b[39m\u001b[38;5;124mavg_return\u001b[39m\u001b[38;5;124m\"\u001b[39m] \u001b[38;5;241m/\u001b[39m summary_stats[\u001b[38;5;124m\"\u001b[39m\u001b[38;5;124mvolatility\u001b[39m\u001b[38;5;124m\"\u001b[39m]\n\u001b[0;32m      8\u001b[0m \u001b[38;5;28mprint\u001b[39m(\u001b[38;5;124m\"\u001b[39m\u001b[38;5;124mRegime-Conditioned Return Statistics:\u001b[39m\u001b[38;5;124m\"\u001b[39m)\n",
      "\u001b[1;31mNameError\u001b[0m: name 'df' is not defined"
     ]
    }
   ],
   "source": [
    "summary_stats = (\n",
    "    df.groupby(\"regime\")[\"returns\"]\n",
    "    .agg([\"mean\", \"std\", \"count\"])\n",
    "    .rename(columns={\"mean\": \"avg_return\", \"std\": \"volatility\"})\n",
    ")\n",
    "summary_stats[\"sharpe_proxy\"] = summary_stats[\"avg_return\"] / summary_stats[\"volatility\"]\n",
    "\n",
    "print(\"Regime-Conditioned Return Statistics:\")\n",
    "display(summary_stats)\n",
    "\n",
    "# Save to CSV\n",
    "summary_stats.to_csv(OUTPUT_DIR / \"regime_stats.csv\")"
   ]
  },
  {
   "cell_type": "markdown",
   "id": "433a2bc8-bda9-49b9-82e2-24404101c2c5",
   "metadata": {},
   "source": [
    "# -----------------------\n",
    "# 6. Transition Analysis\n",
    "# -----------------------\n"
   ]
  },
  {
   "cell_type": "code",
   "execution_count": 8,
   "id": "3f27e3cf-5894-4ced-83c4-2ad9f466b2ce",
   "metadata": {},
   "outputs": [
    {
     "ename": "NameError",
     "evalue": "name 'df' is not defined",
     "output_type": "error",
     "traceback": [
      "\u001b[1;31m---------------------------------------------------------------------------\u001b[0m",
      "\u001b[1;31mNameError\u001b[0m                                 Traceback (most recent call last)",
      "Cell \u001b[1;32mIn[8], line 1\u001b[0m\n\u001b[1;32m----> 1\u001b[0m df[\u001b[38;5;124m\"\u001b[39m\u001b[38;5;124mregime_shift\u001b[39m\u001b[38;5;124m\"\u001b[39m] \u001b[38;5;241m=\u001b[39m \u001b[43mdf\u001b[49m[\u001b[38;5;124m\"\u001b[39m\u001b[38;5;124mregime\u001b[39m\u001b[38;5;124m\"\u001b[39m] \u001b[38;5;241m!=\u001b[39m df[\u001b[38;5;124m\"\u001b[39m\u001b[38;5;124mregime\u001b[39m\u001b[38;5;124m\"\u001b[39m]\u001b[38;5;241m.\u001b[39mshift(\u001b[38;5;241m1\u001b[39m)\n\u001b[0;32m      2\u001b[0m transition_counts \u001b[38;5;241m=\u001b[39m df\u001b[38;5;241m.\u001b[39mloc[df[\u001b[38;5;124m\"\u001b[39m\u001b[38;5;124mregime_shift\u001b[39m\u001b[38;5;124m\"\u001b[39m], \u001b[38;5;124m\"\u001b[39m\u001b[38;5;124mregime\u001b[39m\u001b[38;5;124m\"\u001b[39m]\u001b[38;5;241m.\u001b[39mvalue_counts()\n\u001b[0;32m      4\u001b[0m \u001b[38;5;28mprint\u001b[39m(\u001b[38;5;124m\"\u001b[39m\u001b[38;5;124mRegime Transition Counts:\u001b[39m\u001b[38;5;124m\"\u001b[39m)\n",
      "\u001b[1;31mNameError\u001b[0m: name 'df' is not defined"
     ]
    }
   ],
   "source": [
    "df[\"regime_shift\"] = df[\"regime\"] != df[\"regime\"].shift(1)\n",
    "transition_counts = df.loc[df[\"regime_shift\"], \"regime\"].value_counts()\n",
    "\n",
    "print(\"Regime Transition Counts:\")\n",
    "display(transition_counts)\n",
    "\n",
    "# Plot transition points\n",
    "plt.figure(figsize=(12,4))\n",
    "plt.plot(df.index, df[\"VIX\"], label=\"VIX\", color=\"blue\")\n",
    "plt.scatter(df.loc[df[\"regime_shift\"]].index,\n",
    "            df.loc[df[\"regime_shift\"], \"VIX\"],\n",
    "            color=\"red\", marker=\"o\", s=60, label=\"Transitions\")\n",
    "plt.legend()\n",
    "plt.title(\"VIX Levels at Regime Transition Points\")\n",
    "plt.savefig(OUTPUT_DIR / \"regime_transitions.png\")\n",
    "plt.show()\n"
   ]
  },
  {
   "cell_type": "markdown",
   "id": "800c7580-b63d-4044-8be0-340cb2abade5",
   "metadata": {},
   "source": [
    "# -----------------------\n",
    "# 7. Save Outputs\n",
    "# -----------------------"
   ]
  },
  {
   "cell_type": "code",
   "execution_count": 9,
   "id": "97a8b31d-acad-4414-873b-31ad9a196221",
   "metadata": {},
   "outputs": [
    {
     "ename": "NameError",
     "evalue": "name 'OUTPUT_DIR' is not defined",
     "output_type": "error",
     "traceback": [
      "\u001b[1;31m---------------------------------------------------------------------------\u001b[0m",
      "\u001b[1;31mNameError\u001b[0m                                 Traceback (most recent call last)",
      "Cell \u001b[1;32mIn[9], line 2\u001b[0m\n\u001b[0;32m      1\u001b[0m \u001b[38;5;66;03m# Save features for downstream models\u001b[39;00m\n\u001b[1;32m----> 2\u001b[0m features_path \u001b[38;5;241m=\u001b[39m \u001b[43mOUTPUT_DIR\u001b[49m \u001b[38;5;241m/\u001b[39m \u001b[38;5;124m\"\u001b[39m\u001b[38;5;124mregime_features.parquet\u001b[39m\u001b[38;5;124m\"\u001b[39m\n\u001b[0;32m      3\u001b[0m df[[\u001b[38;5;124m\"\u001b[39m\u001b[38;5;124mSPY\u001b[39m\u001b[38;5;124m\"\u001b[39m,\u001b[38;5;124m\"\u001b[39m\u001b[38;5;124mVIX\u001b[39m\u001b[38;5;124m\"\u001b[39m,\u001b[38;5;124m\"\u001b[39m\u001b[38;5;124mregime\u001b[39m\u001b[38;5;124m\"\u001b[39m] \u001b[38;5;241m+\u001b[39m \u001b[38;5;28mlist\u001b[39m(features\u001b[38;5;241m.\u001b[39mcolumns)]\u001b[38;5;241m.\u001b[39mto_parquet(features_path)\n\u001b[0;32m      5\u001b[0m \u001b[38;5;28mprint\u001b[39m(\u001b[38;5;124mf\u001b[39m\u001b[38;5;124m\"\u001b[39m\u001b[38;5;124mEDA regime analysis complete. Outputs saved to \u001b[39m\u001b[38;5;132;01m{\u001b[39;00mOUTPUT_DIR\u001b[38;5;132;01m}\u001b[39;00m\u001b[38;5;124m\"\u001b[39m)\n",
      "\u001b[1;31mNameError\u001b[0m: name 'OUTPUT_DIR' is not defined"
     ]
    }
   ],
   "source": [
    "# Save features for downstream models\n",
    "features_path = OUTPUT_DIR / \"regime_features.parquet\"\n",
    "df[[\"SPY\",\"VIX\",\"regime\"] + list(features.columns)].to_parquet(features_path)\n",
    "\n",
    "print(f\"EDA regime analysis complete. Outputs saved to {OUTPUT_DIR}\")"
   ]
  },
  {
   "cell_type": "code",
   "execution_count": null,
   "id": "eaabdcc9-9898-4e1d-983f-8906e0384a5e",
   "metadata": {},
   "outputs": [],
   "source": []
  }
 ],
 "metadata": {
  "kernelspec": {
   "display_name": "Python 3 (ipykernel)",
   "language": "python",
   "name": "python3"
  },
  "language_info": {
   "codemirror_mode": {
    "name": "ipython",
    "version": 3
   },
   "file_extension": ".py",
   "mimetype": "text/x-python",
   "name": "python",
   "nbconvert_exporter": "python",
   "pygments_lexer": "ipython3",
   "version": "3.10.8"
  }
 },
 "nbformat": 4,
 "nbformat_minor": 5
}
